{
 "cells": [
  {
   "cell_type": "code",
   "execution_count": 9,
   "id": "466cd7c1",
   "metadata": {},
   "outputs": [],
   "source": [
    "import pandas as pd\n",
    "import numpy as np\n",
    "from scipy.stats import norm"
   ]
  },
  {
   "cell_type": "markdown",
   "id": "aae7ae1a",
   "metadata": {},
   "source": [
    "# 1"
   ]
  },
  {
   "cell_type": "code",
   "execution_count": 2,
   "id": "d24d1854",
   "metadata": {},
   "outputs": [],
   "source": [
    "X=60\n",
    "mean=55\n",
    "std=8"
   ]
  },
  {
   "cell_type": "code",
   "execution_count": 6,
   "id": "48abd259",
   "metadata": {},
   "outputs": [
    {
     "data": {
      "text/plain": [
       "0.625"
      ]
     },
     "execution_count": 6,
     "metadata": {},
     "output_type": "execute_result"
    }
   ],
   "source": [
    "z=(X-mean)/std\n",
    "z"
   ]
  },
  {
   "cell_type": "code",
   "execution_count": 10,
   "id": "5b203332",
   "metadata": {},
   "outputs": [
    {
     "data": {
      "text/plain": [
       "0.26598552904870054"
      ]
     },
     "execution_count": 10,
     "metadata": {},
     "output_type": "execute_result"
    }
   ],
   "source": [
    "1-norm.cdf(z)"
   ]
  },
  {
   "cell_type": "markdown",
   "id": "1c778b02",
   "metadata": {},
   "source": [
    "# 2"
   ]
  },
  {
   "cell_type": "code",
   "execution_count": 11,
   "id": "c4f4b7e8",
   "metadata": {},
   "outputs": [],
   "source": [
    "m=38\n",
    "sd=6"
   ]
  },
  {
   "cell_type": "code",
   "execution_count": 12,
   "id": "6fd96775",
   "metadata": {},
   "outputs": [
    {
     "data": {
      "text/plain": [
       "0.3413447460685429"
      ]
     },
     "execution_count": 12,
     "metadata": {},
     "output_type": "execute_result"
    }
   ],
   "source": [
    "between38_44= norm.cdf(44,loc=m,scale=sd) - norm.cdf(38,loc=m,scale=sd)\n",
    "between38_44"
   ]
  },
  {
   "cell_type": "code",
   "execution_count": 13,
   "id": "97b90631",
   "metadata": {},
   "outputs": [
    {
     "data": {
      "text/plain": [
       "0.15865525393145707"
      ]
     },
     "execution_count": 13,
     "metadata": {},
     "output_type": "execute_result"
    }
   ],
   "source": [
    "morethan44= 1-norm.cdf(44,loc=m,scale=sd)\n",
    "morethan44"
   ]
  },
  {
   "cell_type": "code",
   "execution_count": 17,
   "id": "e82b0815",
   "metadata": {},
   "outputs": [
    {
     "data": {
      "text/plain": [
       "0.09121121972586788"
      ]
     },
     "execution_count": 17,
     "metadata": {},
     "output_type": "execute_result"
    }
   ],
   "source": [
    "probtoattract= norm.cdf(30,loc=m,scale=sd)\n",
    "probtoattract"
   ]
  },
  {
   "cell_type": "code",
   "execution_count": 18,
   "id": "8498db00",
   "metadata": {},
   "outputs": [
    {
     "data": {
      "text/plain": [
       "36.484487890347154"
      ]
     },
     "execution_count": 18,
     "metadata": {},
     "output_type": "execute_result"
    }
   ],
   "source": [
    "probtoattract*400"
   ]
  },
  {
   "cell_type": "markdown",
   "id": "e18f6b65",
   "metadata": {},
   "source": [
    "# 4"
   ]
  },
  {
   "cell_type": "code",
   "execution_count": 19,
   "id": "84416b3d",
   "metadata": {},
   "outputs": [
    {
     "data": {
      "text/plain": [
       "(48.48341392902199, 151.516586070978)"
      ]
     },
     "execution_count": 19,
     "metadata": {},
     "output_type": "execute_result"
    }
   ],
   "source": [
    "norm.interval(0.99,loc=100,scale=20)"
   ]
  },
  {
   "cell_type": "markdown",
   "id": "f9604e9e",
   "metadata": {},
   "source": [
    "# 5"
   ]
  },
  {
   "cell_type": "code",
   "execution_count": 21,
   "id": "92b86bdb",
   "metadata": {},
   "outputs": [
    {
     "data": {
      "text/plain": [
       "(99.00810347848784, 980.9918965215122)"
      ]
     },
     "execution_count": 21,
     "metadata": {},
     "output_type": "execute_result"
    }
   ],
   "source": [
    "norm.interval(0.95,loc=540,scale=225)"
   ]
  },
  {
   "cell_type": "code",
   "execution_count": null,
   "id": "0945666d",
   "metadata": {},
   "outputs": [],
   "source": []
  }
 ],
 "metadata": {
  "kernelspec": {
   "display_name": "Python 3 (ipykernel)",
   "language": "python",
   "name": "python3"
  },
  "language_info": {
   "codemirror_mode": {
    "name": "ipython",
    "version": 3
   },
   "file_extension": ".py",
   "mimetype": "text/x-python",
   "name": "python",
   "nbconvert_exporter": "python",
   "pygments_lexer": "ipython3",
   "version": "3.10.9"
  }
 },
 "nbformat": 4,
 "nbformat_minor": 5
}
